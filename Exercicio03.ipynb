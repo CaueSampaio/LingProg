{
 "cells": [
  {
   "cell_type": "markdown",
   "metadata": {},
   "source": [
    "01 Faça um Programa que peça dois números e imprima o maior deles."
   ]
  },
  {
   "cell_type": "code",
   "execution_count": null,
   "metadata": {},
   "outputs": [],
   "source": [
    "print (\"entre com o primeiro número\")\n",
    "num1 = input()\n",
    "print (\"entre com o segundo número\")\n",
    "num2 = input()\n",
    "if num1 > num2 :\n",
    "    print(num1)\n",
    "else :\n",
    "    print(num2)"
   ]
  },
  {
   "cell_type": "markdown",
   "metadata": {},
   "source": [
    "02 Faça um Programa que verifique se uma letra digitada é vogal ou consoante."
   ]
  },
  {
   "cell_type": "code",
   "execution_count": null,
   "metadata": {},
   "outputs": [],
   "source": [
    "letra = input ('Digite uma letra: ')\n",
    "\n",
    "if letra == 'a' or letra == 'e' or letra == 'i' or letra == 'o' or letra == 'u':\n",
    "    print ('A letra é uma vogal')\n",
    "else:\n",
    "    print ('A letra é uma consoante')"
   ]
  },
  {
   "cell_type": "markdown",
   "metadata": {},
   "source": [
    "Faça um programa para a leitura de duas notas parciais de um aluno. O programa deve calcular a média alcançada por aluno e apresentar:\n",
    "A mensagem \"Aprovado\", se a média alcançada for maior ou igual a sete;\n",
    "A mensagem \"Reprovado\", se a média for menor do que sete;\n",
    "A mensagem \"Aprovado com Distinção\", se a média for igual a dez."
   ]
  },
  {
   "cell_type": "code",
   "execution_count": null,
   "metadata": {},
   "outputs": [],
   "source": [
    "n1 = input('Digite sua nota: ')\n",
    "n2 = input('Digite sua 2° nota: ')\n",
    "\n",
    "nota = int(n1) + int(n2) / 2\n",
    "\n",
    "if nota >= 7 and nota < 10:     \n",
    "    print ('Aprovado') \n",
    "elif nota >= 10:\n",
    "    print ('Aprovado com Distinção!!')\n",
    "else:\n",
    "    print ('Reprovado')"
   ]
  },
  {
   "cell_type": "markdown",
   "metadata": {},
   "source": [
    "Faça um Programa que leia três números e mostre-os em ordem decrescente."
   ]
  },
  {
   "cell_type": "code",
   "execution_count": null,
   "metadata": {},
   "outputs": [],
   "source": [
    "n1 = input('Digite o 1° numero: ')\n",
    "n2 = input('Digite o 2° numero: ')\n",
    "n3 = input('Digite o 3° numero: ')\n",
    "#----------------------------------------\n",
    "if n1 > n2 and n1 >n3:\n",
    "    print (n1)\n",
    "elif n2 > n3 and n2 > n1:\n",
    "    print (n2)\n",
    "elif n3 > n1 and n3 > n2:\n",
    "    print (n3)\n",
    "\n",
    "#--------------------------------------\n",
    "if n1 > n3 and n1 < n2:\n",
    "    print (n1)\n",
    "elif n2 > n1 and n2 < n3:\n",
    "    print (n2)\n",
    "elif n3 > n2 and n3 > n1:\n",
    "    print (n3)\n",
    "elif n2 < n1 and n2 > n3:\n",
    "    print (n2)\n",
    "#--------------------------------------\n",
    "if n1 < n2 and n1 < n3:\n",
    "    print (n1)\n",
    "elif n2 < n3 and n2 < n1:\n",
    "    print (n2)\n",
    "elif n3 < n1 and n3 < n2:\n",
    "    print (n3)"
   ]
  },
  {
   "cell_type": "markdown",
   "metadata": {},
   "source": [
    "As Organizações Tabajara resolveram dar um aumento de salário aos seus colaboradores e lhe contrataram para desenvolver o programa que calculará os reajustes. Faça um programa que recebe o salário de um colaborador e o reajuste segundo o seguinte critério, baseado no salário atual:\n",
    "salários até R 280,00(incluindo):aumentode20−saláriosentreR280,00(incluindo):aumentode20−saláriosentreR  280,00 e R 700,00:aumentode15−saláriosentreR700,00:aumentode15−saláriosentreR  700,00 e R 1500,00:aumentode10−saláriosdeR1500,00:aumentode10−saláriosdeR  1500,00 em diante : aumento de 5% Após o aumento ser realizado, informe na tela:\n",
    "o salário antes do reajuste;\n",
    "o percentual de aumento aplicado;\n",
    "o valor do aumento;\n",
    "o novo salário, após o aumento."
   ]
  },
  {
   "cell_type": "code",
   "execution_count": null,
   "metadata": {},
   "outputs": [],
   "source": [
    "salario = 700\n",
    "\n",
    "if salario <= 280:\n",
    "      por = (20 / 100.0) * salario\n",
    "      resultado = salario + por\n",
    "      print ('Seu salário antes do reajuste: R$',salario)\n",
    "      print ('Percentual aumentado: %',20)\n",
    "      print ('O valor do aumento é: R$',por)\n",
    "      print ('Com o reajuste, o seu salário é: R$',resultado)\n",
    "\n",
    "#Se o salario é maior que 280 e menor que 700\n",
    "\n",
    "elif salario > 280.00 and salario <= 700.00:\n",
    "        por = (15 / 100.0) * salario\n",
    "        resultado = salario + por\n",
    "        print ('Seu salário antes do reajuste: R$',salario)\n",
    "        print ('Percentual aumentado: %',15)\n",
    "        print ('O valor do aumento é: R$',por)\n",
    "        print ('Com o reajuste, o seu salário é: R$',resultado)\n",
    "\n",
    "#Se o salario é maior que 700 e menor que 1500\n",
    "\n",
    "elif salario > 700.00 and salario <= 1500.00:\n",
    "        por = (10 / 100.0) * salario\n",
    "        resultado = salario + por\n",
    "        print ('Seu salário antes do reajuste: R$',salario)\n",
    "        print ('Percentual aumentado: %',10)\n",
    "        print ('O valor do aumento é: R$',por)\n",
    "        print ('Com o reajuste, o seu salário é: R$',resultado)\n",
    "\n",
    "#Se o salario é maior que 1500\n",
    "\n",
    "elif salario > 1500.00:\n",
    "        por = (5 / 100.0) * salario\n",
    "        resultado = salario + por\n",
    "        print ('Seu salário antes do reajuste: R$',salario)\n",
    "        print ('Percentual aumentado: %',5)\n",
    "        print ('O valor do aumento é: R$',por)\n",
    "        print ('Com o reajuste, o seu salário é: R$',resultado)"
   ]
  },
  {
   "cell_type": "markdown",
   "metadata": {},
   "source": [
    "Faça um Programa que leia um número e exiba o dia correspondente da semana. (1-Domingo, 2- Segunda, etc.), se digitar outro valor deve aparecer valor inválido."
   ]
  },
  {
   "cell_type": "code",
   "execution_count": null,
   "metadata": {},
   "outputs": [],
   "source": [
    "numero = int(input(\"Digite um numero de 1 a 7\"))\n",
    "\n",
    "if numero == 1:\n",
    "    print ('1-Domingo')\n",
    "elif numero == 2:\n",
    "    print ('2-Segunda')\n",
    "elif numero == 3:\n",
    "    print ('3-Terça')\n",
    "elif numero == 4:\n",
    "    print ('4-Quarta')\n",
    "elif numero == 5:\n",
    "    print ('5-Quinta')\n",
    "elif numero == 6:\n",
    "    print ('6-Sexta')\n",
    "elif numero == 7:\n",
    "    print ('7-Sabádo')\n",
    "else:\n",
    "    print ('Entrada invalida')"
   ]
  },
  {
   "cell_type": "markdown",
   "metadata": {},
   "source": [
    "Faça um programa que lê as duas notas parciais obtidas por um aluno numa disciplina ao longo de um semestre, e calcule a sua média. A atribuição de conceitos obedece à tabela abaixo: Média de Aproveitamento Conceito Entre 9.0 e 10.0 A Entre 7.5 e 9.0 B Entre 6.0 e 7.5 C Entre 4.0 e 6.0 D Entre 4.0 e zero E O algoritmo deve mostrar na tela as notas, a média, o conceito correspondente e a mensagem “APROVADO” se o conceito for A, B ou C ou “REPROVADO” se o conceito for D ou E."
   ]
  },
  {
   "cell_type": "code",
   "execution_count": null,
   "metadata": {},
   "outputs": [],
   "source": [
    "v1 = 8\n",
    "v2 = 9\n",
    "nota = (v1 + v2) /2\n",
    "\n",
    "#nota A\n",
    "\n",
    "if nota >= 9 and nota <= 10:\n",
    "    print ('A nota da primeira prova: ' ,v1)\n",
    "    print ('A nota da segunda prova: ',v2)\n",
    "    print ('——————————')\n",
    "    print ('Você tirou um A!')\n",
    "    print ('Sua media é de:', nota)\n",
    "    print ('você foi aprovado!!')\n",
    "\n",
    "#nota B\n",
    "\n",
    "elif nota >= 7.5 and nota < 9:\n",
    "    print ('A nota da primeira prova: ',v1)\n",
    "    print ('A nota da segunda prova: ',v2)\n",
    "    print ('——————————')\n",
    "    print ('Você tirou um B!')\n",
    "    print ('Sua media é de:',nota)\n",
    "    print ('você foi aprovado!!')\n",
    "\n",
    "#nota C\n",
    "\n",
    "elif nota >= 6.5 and nota < 7.5:\n",
    "    print ('A nota da primeira prova: ',v1)\n",
    "    print ('A nota da segunda prova: ',v2)\n",
    "    print ('——————————')\n",
    "    print ('Você tirou um C!')\n",
    "    print ('Sua media é de:',nota)\n",
    "    print ('você foi aprovado!!')\n",
    "\n",
    "#nota D\n",
    "\n",
    "elif nota >= 4 and nota < 6:\n",
    "    print ('A nota da primeira prova:' ,v1)\n",
    "    print ('A nota da segunda prova: ',v2)\n",
    "    print ('——————————')\n",
    "    print ('Você tirou um D!')\n",
    "    print ('Sua media é de:',nota)\n",
    "    print ('você foi reprovado!!')\n",
    "\n",
    "#nota E\n",
    "\n",
    "elif nota < 4:\n",
    "    print ('A nota da primeira prova: ',v1)\n",
    "    print ('A nota da segunda prova: ',v2)\n",
    "    print ('——————————')\n",
    "    print ('Você tirou um E!')\n",
    "    print ('Sua media é de:', nota)\n",
    "    print ('você foi reprovado')"
   ]
  },
  {
   "cell_type": "markdown",
   "metadata": {},
   "source": [
    "Faça um Programa que peça os 3 lados de um triângulo. O programa deverá informar se os valores podem ser um triângulo. Indique, caso os lados formem um triângulo, se o mesmo é: equilátero, isósceles ou escaleno. Dicas:\n",
    "Três lados formam um triângulo quando a soma de quaisquer dois lados for maior que o terceiro;\n",
    "Triângulo Equilátero: três lados iguais;\n",
    "Triângulo Isósceles: quaisquer dois lados iguais;\n",
    "Triângulo Escaleno: três lados diferentes;"
   ]
  },
  {
   "cell_type": "code",
   "execution_count": null,
   "metadata": {},
   "outputs": [],
   "source": [
    "l1 = input('Digite o primeiro lado: ')\n",
    "l2 = input('Digite o segundo lado: ')\n",
    "l3 = input('Digite o segundo lado: ')\n",
    "\n",
    "if l1 + l2 > l3:\n",
    "    if l1 == l2 and l1 == l3:\n",
    "        print ('Triângulo Equilátero')\n",
    "    elif l1 == l2 or l2 == l3 or l1 == l3:\n",
    "        print ('Triângulo Isósceles')\n",
    "    elif l1 != l2 and l3 or l2 != l1 and l3 or l1 != l3:\n",
    "        print ('Triângulo Escaleno')\n"
   ]
  },
  {
   "cell_type": "markdown",
   "metadata": {},
   "source": [
    "Faça um programa que calcule as raízes de uma equação do segundo grau, na forma ax2 + bx + c. O programa deverá pedir os valores de a, b e c e fazer as consistências, informando ao usuário nas seguintes situações:\n",
    "Se o usuário informar o valor de A igual a zero, a equação não é do segundo grau e o programa não deve fazer pedir os demais valores, sendo encerrado;\n",
    "Se o delta calculado for negativo, a equação não possui raizes reais. Informe ao usuário e encerre o programa;\n",
    "Se o delta calculado for igual a zero a equação possui apenas uma raiz real; informe-a ao usuário;\n",
    "Se o delta for positivo, a equação possui duas raiz reais; informe-as ao usuário;"
   ]
  },
  {
   "cell_type": "code",
   "execution_count": null,
   "metadata": {},
   "outputs": [],
   "source": [
    "import math\n",
    "a = 2\n",
    "b = 4\n",
    "c = 2\n",
    "print(\"Equacao ax^2 + bx + c\")\n",
    "if a == 0:\n",
    "    print(\"nao eh uma equacao de segundo grau\")\n",
    "else:\n",
    "    delta = (math.pow(b,2) - (4*a*c))\n",
    "    if delta < 0:\n",
    "        print (\"delta = \",delta,\" a equacao nao possui raizes reais\")\n",
    "    if delta == 0:\n",
    "        print (\"delta = \",delta,\" a equacao possui uma raiz\")\n",
    "        raiz = ((-1)*b + math.sqrt(delta))/(2*a)\n",
    "        print (\"raiz da equacao = \", raiz)\n",
    "        if delta > 0:\n",
    "            print (\"delta = \",delta,\" a equacao possui duas raizes\")\n",
    "        raiz1 = ((-1)*b + math.sqrt(delta))/(2*a)\n",
    "        raiz2 = ((-1)*b - math.sqrt(delta))/(2*a)\n",
    "        print (\"raiz1 da equacao = \", raiz1)\n",
    "        print (\"raiz2 da equacao = \", raiz2)"
   ]
  },
  {
   "cell_type": "markdown",
   "metadata": {},
   "source": [
    "Faça um Programa para um caixa eletrônico. O programa deverá perguntar ao usuário a valor do saque e depois informar quantas notas de cada valor serão fornecidas. As notas disponíveis serão as de 1, 5, 10, 50 e 100 reais. O valor mínimo é de 10 reais e o máximo de 600 reais. O programa não deve se preocupar com a quantidade de notas existentes na máquina.\n",
    "Exemplo 1: Para sacar a quantia de 256 reais, o programa fornece duas notas de 100, uma nota de 50, uma nota de 5 e uma nota de 1;\n",
    "Exemplo 2: Para sacar a quantia de 399 reais, o programa fornece três notas de 100, uma nota de 50, quatro notas de 10, uma nota de 5 e quatro notas de 1."
   ]
  },
  {
   "cell_type": "code",
   "execution_count": null,
   "metadata": {},
   "outputs": [],
   "source": [
    "def metodo_1(valor):\n",
    "    valor_total = valor\n",
    "\n",
    "    notas100 = valor // 100\n",
    "    valor -= notas100 * 100\n",
    "\n",
    "    notas50 = valor // 50\n",
    "    valor -= notas50 * 50\n",
    "\n",
    "    notas10 = valor // 10\n",
    "    valor -= notas10 * 10\n",
    "\n",
    "    notas5 = valor // 5\n",
    "    valor -= notas5 * 5\n",
    "\n",
    "\n",
    "    print_notas(valor_total, valor, notas5, notas10, notas50, notas100)\n",
    "\n",
    "def print_notas(total, notas1, notas5, notas10, notas50, notas100):\n",
    "    template = \"R$ {:>3}: {:>3} notas\"\n",
    "    print(\"- Valor do saque: R$ \" + str(total))\n",
    "    print(template.format(\"100\", notas100))\n",
    "    print(template.format(\"50\", notas50))\n",
    "    print(template.format(\"10\", notas10))\n",
    "    print(template.format(\"5\", notas5))\n",
    "    print(template.format(\"1\", notas1))\n",
    "    print()\n",
    "\n",
    "\n",
    "# = = = = = = = = = = = = = = =\n",
    "\n",
    "valor = int(input('Quanto deseja sacar? '))\n",
    "\n",
    "print('= = = Saque = = =')\n",
    "resposta1 = metodo_1(valor)"
   ]
  },
  {
   "cell_type": "markdown",
   "metadata": {},
   "source": [
    "Faça um programa que faça 5 perguntas para uma pessoa sobre um crime. As perguntas são: \"Telefonou para a vítima?\" \"Esteve no local do crime?\" \"Mora perto da vítima?\" \"Devia para a vítima?\" \"Já trabalhou com a vítima?\" O programa deve no final emitir uma classificação sobre a participação da pessoa no crime. Se a pessoa responder positivamente a 2 questões ela deve ser classificada como \"Suspeita\", entre 3 e 4 como \"Cúmplice\" e 5 como \"Assassino\". Caso contrário, ele será classificado como \"Inocente\"."
   ]
  },
  {
   "cell_type": "code",
   "execution_count": null,
   "metadata": {},
   "outputs": [],
   "source": [
    "cont = 0\n",
    "\n",
    "x = \"sim\"\n",
    "\n",
    "print(\"Telefonou para a vítima?\")\n",
    "p1 = input()\n",
    "\n",
    "if p1 == x :\n",
    "    cont += 1\n",
    "print(\"Esteve no local do crime?\")\n",
    "p2 = input()\n",
    "\n",
    "if p2 == x :\n",
    "    cont += 1\n",
    "print(\"Mora perto da vítima?\")\n",
    "p3 = input()\n",
    "if p3 == x :\n",
    "    cont += 1\n",
    "print(\"Devia para a vítima?\")\n",
    "p4 = input()\n",
    "\n",
    "if p4 == x :\n",
    "    cont += 1 \n",
    "print(\"Já trabalhou com a vítima?\")\n",
    "p5 = input()\n",
    "\n",
    "if p5 == x :\n",
    "    cont += 1\n",
    "    \n",
    "if cont >= 2 :\n",
    "    print (\"suspeito\")\n",
    "if cont >= 3 :\n",
    "    print (\"cumplice\")\n",
    "if cont == 5 :\n",
    "    print (\"assasino\")\n",
    "if cont < 2 :\n",
    "    print (\"inocente\")"
   ]
  },
  {
   "cell_type": "markdown",
   "metadata": {},
   "source": [
    "12 Uma fruteira está vendendo frutas com a seguinte tabela de preços:\n",
    "\n",
    "Até 5 Kg Acima de 5 Kg Morango r 2,50 por Kg r 2,20 por Kg Maçã r 1,80 por Kg r 1,50 por Kg\n",
    "\n",
    "Se o cliente comprar mais de 8 Kg em frutas ou o valor total da compra ultrapassar R$ 25,00, receberá ainda um desconto de 10/100 sobre este total. Escreva um algoritmo para ler a quantidade (em Kg) de morangos e a quantidade (em Kg) de maças adquiridas e escreva o valor a ser pago pelo cliente.\n",
    "\n",
    "13 Faça um programa que peça uma nota, entre zero e dez. Mostre uma mensagem caso o valor seja inválido e continue pedindo até que o usuário informe um valor válido."
   ]
  },
  {
   "cell_type": "code",
   "execution_count": null,
   "metadata": {},
   "outputs": [],
   "source": [
    "nota = -1\n",
    "while nota < 0 or nota > 10: \n",
    "    nota = float(input(\"digite uma nota\"))\n",
    "    print(\"nota inválida, digite novamente\")\n",
    "    \n",
    "print(\"nota\", nota)"
   ]
  },
  {
   "cell_type": "markdown",
   "metadata": {},
   "source": [
    "Faça um programa que leia 5 números e informe o maior número."
   ]
  },
  {
   "cell_type": "code",
   "execution_count": null,
   "metadata": {},
   "outputs": [],
   "source": [
    "lista = []\n",
    "quantidade = 5\n",
    "\n",
    "for n in range(0,int(quantidade)): \n",
    "    lista.append(int(input('Digite o número: ')))\n",
    "\n",
    "print ('Maior número da lista: ', max(lista))"
   ]
  },
  {
   "cell_type": "markdown",
   "metadata": {},
   "source": [
    "Faça um programa que leia 5 números e informe a soma e a média dos números."
   ]
  },
  {
   "cell_type": "code",
   "execution_count": null,
   "metadata": {},
   "outputs": [],
   "source": [
    "num1 = int(input(\"Digite o 1º numero:\"))\n",
    "num2 = int(input(\"Digite o 2º numero\"))\n",
    "num3 = int(input(\"Digite o 3º numero:\"))\n",
    "num4 = int(input(\"Digite o 4º numero\"))\n",
    "num5 = int(input(\"Digite o 5º numero:\"))\n",
    "soma = num1 + num2 + num3 + num4 + num5\n",
    "media = (soma / 5)\n",
    "print(\"Soma:\", soma, \"\\nMedia:\", media)"
   ]
  },
  {
   "cell_type": "markdown",
   "metadata": {},
   "source": [
    "Faça um programa que imprima na tela apenas os números ímpares entre 1 e 50"
   ]
  },
  {
   "cell_type": "code",
   "execution_count": null,
   "metadata": {},
   "outputs": [],
   "source": [
    "for i in range(50):\n",
    "    if(i%2 != 0):\n",
    "        print(i)"
   ]
  },
  {
   "cell_type": "markdown",
   "metadata": {},
   "source": [
    "Desenvolva um gerador de tabuada, capaz de gerar a tabuada de qualquer número inteiro entre 1 a 10. O usuário deve informar de qual numero ele deseja ver a tabuada. A saída deve ser conforme o exemplo abaixo: Tabuada de 5: 5 X 1 = 5 5 X 2 = 10 ... 5 X 10 = 50"
   ]
  },
  {
   "cell_type": "code",
   "execution_count": null,
   "metadata": {},
   "outputs": [],
   "source": [
    "num = int(input(\"Escolha um numero de 1 a 10\"))\n",
    "if num > 0 and num <=10:\n",
    "    for i in range(1, 11):\n",
    "        print(num, \"x\", i, \"=\", (num*i))\n",
    "else:\n",
    "    print(\"Apenas numeros de 1 a 10\")\n",
    "    "
   ]
  },
  {
   "cell_type": "markdown",
   "metadata": {},
   "source": [
    "A série de Fibonacci é formada pela seqüência 1,1,2,3,5,8,13,21,34,55,... Faça um programa capaz de gerar a série até o n−ésimo termo."
   ]
  },
  {
   "cell_type": "code",
   "execution_count": null,
   "metadata": {},
   "outputs": [],
   "source": [
    "termo = int(input(\"Escolha o n de termos:\"))\n",
    "def Fibonacci(n):\n",
    "    if n <= 1:\n",
    "        return n\n",
    "    else:\n",
    "        return Fibonacci(n-1) + Fibonacci(n-2)\n",
    "print('Fibonacci = ' + str(Fibonacci(10)))"
   ]
  },
  {
   "cell_type": "markdown",
   "metadata": {},
   "source": [
    "Faça um programa que calcule o fatorial de um número inteiro fornecido pelo usuário. Ex.: 5!=5.4.3.2.1=120"
   ]
  },
  {
   "cell_type": "code",
   "execution_count": null,
   "metadata": {},
   "outputs": [],
   "source": [
    "n = int(input(\"Digite um numero:\"))\n",
    "\n",
    "resultado = 1\n",
    "\n",
    "lista = range(1,n+1)\n",
    "\n",
    "for x in lista:\n",
    "    resultado = x * resultado\n",
    "    print(resultado)"
   ]
  },
  {
   "cell_type": "markdown",
   "metadata": {},
   "source": [
    "O Sr. Manoel Joaquim possui uma grande loja de artigos de R$ 1,99, com cerca de 10 caixas. Para agilizar o cálculo de quanto cada cliente deve pagar ele desenvolveu um tabela que contém o número de itens que o cliente comprou e ao lado o valor da conta. Desta forma a atendente do caixa precisa apenas contar quantos itens o cliente está levando e olhar na tabela de preços. Você foi contratado para desenvolver o programa que monta esta tabela de preços, que conterá os preços de 1 até 50 produtos, conforme o exemplo abaixo: Lojas Quase Dois - Tabela de preços\n",
    "\n",
    "1 - R 1.992−R1.992−R  3.98 ... 50 - R$ 99.50"
   ]
  },
  {
   "cell_type": "code",
   "execution_count": null,
   "metadata": {},
   "outputs": [],
   "source": [
    "print(\"Lojas Quase Dois - Tabela de preços\")\n",
    "arr = []\n",
    "for i in range(1, 51):\n",
    "    num = int(input(\"Digite o preço do item: \"))\n",
    "    arr.append(num)\n",
    "z = 1\n",
    "for num in arr:\n",
    "    print(z, \": R$\", num)\n",
    "    z = z + 1"
   ]
  },
  {
   "cell_type": "markdown",
   "metadata": {},
   "source": [
    "O Sr. Manoel Joaquim acaba de adquirir uma panificadora e pretende implantar a metodologia da tabelinha, que já é um sucesso na sua loja de 1,99. Você foi contratado para desenvolver o programa que monta a tabela de preços de pães, de 1 até 50 pães, a partir do preço do pão informado pelo usuário, conforme o exemplo abaixo: Preço do pão: R$ 0.18 Panificadora Pão de Ontem - Tabela de preços\n",
    "\n",
    "1 - R 0.182−R0.182−R  0.36 ... 50 - R$ 9.00"
   ]
  },
  {
   "cell_type": "code",
   "execution_count": null,
   "metadata": {},
   "outputs": [],
   "source": [
    "preco = float(input(\"Digite o preço do pão:\"))\n",
    "print(\"Preço do pão:\", \"{0:4.2f}\".format(preco), \"\\nPanificadora Pão de Ontem - Tabela de preços\")\n",
    "for i in range(1, 51):\n",
    "    precotabela = preco*i\n",
    "    print(i, \": R$\", \"{0:4.2f}\".format(precotabela))"
   ]
  },
  {
   "cell_type": "markdown",
   "metadata": {},
   "source": [
    "O Sr. Manoel Joaquim expandiu seus negócios para além dos negócios de 1,99 e agora possui uma loja de conveniências. Faça um programa que implemente uma caixa registradora rudimentar. O programa deverá receber um número desconhecido de valores referentes aos preços das mercadorias. Um valor zero deve ser informado pelo operador para indicar o final da compra. O programa deve então mostrar o total da compra e perguntar o valor em dinheiro que o cliente forneceu, para então calcular e mostrar o valor do troco. Após esta operação, o programa deverá voltar ao ponto inicial, para registrar a próxima compra. A saída deve ser conforme o exemplo abaixo:\n",
    "\n",
    "Lojas Tabajara Produto 1: R 2.20Produto2:R2.20Produto2:R  5.80 Produto 3: R 0Total:R0Total:R  9.00 Dinheiro: R 20.00Troco:R20.00Troco:R  11.00"
   ]
  },
  {
   "cell_type": "code",
   "execution_count": null,
   "metadata": {},
   "outputs": [],
   "source": [
    "while True:\n",
    "    print(\"---------- LOJA TABAJARA -----------\")\n",
    "    n = 1\n",
    "    total = 0\n",
    "\n",
    "    while True:\n",
    "        preco = float(input(\"Produto {}: R$ \".format(n)))\n",
    "        n += 1\n",
    "        total += preco\n",
    "        if preco == 0:\n",
    "            break\n",
    "\n",
    "    print(\"------------------------------------\")\n",
    "\n",
    "    print(\"Total: R$ {:.2f} \".format(total))\n",
    "    dinheiro = float(input(\"Dinheiro: R$ \"))\n",
    "    print(\"Troco: R$ {:.2f}\".format(dinheiro - total))\n",
    "\n",
    "    print(\"------------------------------------\")\n",
    "\n",
    "    reset = input(\"pressione 0 para reset, 1 para encerrar: \")\n",
    "    if reset == \"0\":\n",
    "        clear()\n",
    "        continue\n",
    "    else:\n",
    "        clear()\n",
    "        print(\"Encerrando caixa...\")\n",
    "        break"
   ]
  },
  {
   "cell_type": "markdown",
   "metadata": {},
   "source": [
    "Foi feita uma estatística em cinco cidades brasileiras para coletar dados sobre acidentes de trânsito. Foram obtidos os seguintes dados:\n",
    "\n",
    "Código da cidade;\n",
    "Número de veículos de passeio (em 1999);\n",
    "Número de acidentes de trânsito com vítimas (em 1999). Deseja-se saber:\n",
    "Qual o maior e menor índice de acidentes de transito e a que cidade pertence;\n",
    "Qual a média de veículos nas cinco cidades juntas;\n",
    "Qual a média de acidentes de trânsito nas cidades com menos de 2.000 veículos de passeio."
   ]
  },
  {
   "cell_type": "code",
   "execution_count": null,
   "metadata": {},
   "outputs": [],
   "source": [
    "def coletarDados():\n",
    "    try:\n",
    "        lista_dados = []\n",
    "        for i in range(5):\n",
    "            codigo = int (raw_input(\"codigo? \"))\n",
    "            n_veiculos = int (raw_input(\"Numero de veiculos em (1999)? \"))\n",
    "            n_acidentes = int (raw_input(\"Numero de acidentes com vitima? \"))\n",
    "            lista_dados.append( ( codigo, n_veiculos, n_acidentes) )\n",
    "    except: \n",
    "        print (\"Erro na leitura dos Dados.\")\n",
    "        \n",
    "    return lista_dados \n",
    "\n",
    "def obterIndicesDeAcidentes( dadosColetados ):\n",
    "    maiorIndice = dadosColetados[0] \n",
    "    menorIndice = dadosColetados[0]\n",
    "    for dado in dadosColetados:\n",
    "        if calculaIndice(dado) > calculaIndice(maiorIndice):\n",
    "            maiorIndice = dado \n",
    "        if calculaIndice (dado) < calculaIndice(menorIndice):\n",
    "            menorIndice = dado \n",
    "    return (menorIndice, maiorIndice) \n",
    "\n",
    "def mostraIndices( indices ):\n",
    "    menorIndice, maiorIndice = indices[0] , indices[1]\n",
    "    print (\"Maior:%.2f%% Cidade:%d\"%(calculaIndice(maiorIndice),maiorIndice[0]))\n",
    "    print (\"Menor:%.2f%% Cidade:%d\"%(calculaIndice(menorIndice),menorIndice[0]))\n",
    "    \n",
    "def mediaDeVeiculos (listaDeDados):\n",
    "    soma_veiculos = 0\n",
    "    quantidade_de_dados = len (listaDeDados)\n",
    "    \n",
    "    for dados in listaDeDados:\n",
    "        soma_veiculos += dados[1]\n",
    "        return float(soma_veiculos)/float(quantidade_de_dados) \n",
    "\n",
    "def mediaDeAcidentes( listaDeDados ):\n",
    "    soma_acidentes = 0 \n",
    "    quantidade_de_dados = 0\n",
    "    for dados in listaDeDados:\n",
    "        if dados[1] < 2000:\n",
    "            soma_acidentes += dados[2]\n",
    "            quantidade_de_dados +=1\n",
    "            \n",
    "    return float (soma_acidentes) / float (quantidade_de_dados) \n",
    "\n",
    "def main():\n",
    "    listaDeDados = coletarDados()\n",
    "    mostraIndices ( obterIndicesDeAcidentes( listaDeDados ) )\n",
    "    print (\"Media de Veiculos: %.2f\" % mediaDeVeiculos (listaDeDados ) )\n",
    "    print (\"Media de Acidentes: %.2f \" % mediaDeAcidentes(listaDeDados) )\n",
    "    if __name__ == \"__main__\": \n",
    "        main()"
   ]
  },
  {
   "cell_type": "code",
   "execution_count": null,
   "metadata": {},
   "outputs": [],
   "source": []
  }
 ],
 "metadata": {
  "kernelspec": {
   "display_name": "Python 3",
   "language": "python",
   "name": "python3"
  },
  "language_info": {
   "codemirror_mode": {
    "name": "ipython",
    "version": 3
   },
   "file_extension": ".py",
   "mimetype": "text/x-python",
   "name": "python",
   "nbconvert_exporter": "python",
   "pygments_lexer": "ipython3",
   "version": "3.6.4"
  }
 },
 "nbformat": 4,
 "nbformat_minor": 2
}
